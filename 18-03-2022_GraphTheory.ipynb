{
 "cells": [
  {
   "cell_type": "markdown",
   "id": "7aa174d3",
   "metadata": {},
   "source": [
    "## Communities of graphs\n",
    "* Closely connected nodes\n",
    "* Neighbors updating neigbors -> Reinforces loops\n",
    "* Finding communnities is hard, they can also overlap\n",
    "\n",
    "### Clique\n",
    "* Ideal subcommunity\n",
    "\n",
    "A clique of a graph G is an induced subgraph of G that is complete (all nodes are connected)\n",
    "* All included edges adjacent as well as all nodes (no uncolored edges in between colored nodes)\n",
    "* All subnodes are connected to each other\n",
    "\n",
    "### Random note\n",
    "* Summing all nodes of an undirected Graph results in number of edges x2\n",
    "\n",
    "<i>To determine clusters, clustering coefficient formula (Definition 6.8 in Graph theory book)</i>\n",
    "* Node must have at least more then 1 neighbor\n",
    "* A clique results in 1, if not less then 1.\n",
    "\n",
    "### Network transitivity\n",
    "* Number of triangles divided by triples\n",
    "\n",
    "### Centrality\n",
    "* Eccentricity - Travelling least amount of edges whilst finding the highest weight (Longest shortest path)\n",
    "* Radius is min eccentricity\n",
    "* Radius is max eccentricity\n",
    "\n",
    "### Graph laplacian\n",
    "* L = D - A\n",
    "\n",
    "\n",
    "### Spectral imbedding\n",
    "* Use eigenvector columns as coordenates\n",
    "* can takee n columns\n",
    "* Nx.draw_spectral, nx.spectral_layout\n",
    "\n",
    "### Graph Partitioning\n"
   ]
  }
 ],
 "metadata": {
  "kernelspec": {
   "display_name": "Python 3 (ipykernel)",
   "language": "python",
   "name": "python3"
  },
  "language_info": {
   "codemirror_mode": {
    "name": "ipython",
    "version": 3
   },
   "file_extension": ".py",
   "mimetype": "text/x-python",
   "name": "python",
   "nbconvert_exporter": "python",
   "pygments_lexer": "ipython3",
   "version": "3.9.7"
  }
 },
 "nbformat": 4,
 "nbformat_minor": 5
}
