{
 "cells": [
  {
   "cell_type": "code",
   "execution_count": 1,
   "id": "04ed48cb",
   "metadata": {},
   "outputs": [],
   "source": [
    "import networkx as nx"
   ]
  },
  {
   "cell_type": "code",
   "execution_count": 2,
   "id": "2942d792",
   "metadata": {},
   "outputs": [
    {
     "name": "stdout",
     "output_type": "stream",
     "text": [
      "[]\n",
      "[]\n"
     ]
    }
   ],
   "source": [
    "# Create an empty graph\n",
    "G = nx.Graph()\n",
    "print(G.nodes()) # returns a list\n",
    "print(G.edges()) # returns a list"
   ]
  },
  {
   "cell_type": "code",
   "execution_count": 5,
   "id": "4d2feb01",
   "metadata": {},
   "outputs": [
    {
     "name": "stdout",
     "output_type": "stream",
     "text": [
      "['A', 'B', 'C', 'D', 'E']\n",
      "[]\n"
     ]
    }
   ],
   "source": [
    "G.add_node('A')  # Adds one node\n",
    "G.add_nodes_from(['B', 'C', 'D', 'E'])  # Adds several nodes\n",
    "print(G.nodes()) # returns a list\n",
    "print(G.edges()) # returns a list"
   ]
  },
  {
   "cell_type": "code",
   "execution_count": 8,
   "id": "cc50e293",
   "metadata": {},
   "outputs": [
    {
     "name": "stdout",
     "output_type": "stream",
     "text": [
      "['A', 'B', 'C', 'D', 'E']\n",
      "[('A', 'B'), ('A', 'C'), ('B', 'D'), ('B', 'E'), ('C', 'E')]\n"
     ]
    }
   ],
   "source": [
    "G.add_edge(*('A','B'))  # Adds edge between A and B\n",
    "G.add_edges_from([('A','C'), ('B','D'), ('B','E'), ('C', 'E')])\n",
    "print(G.nodes()) # returns a list\n",
    "print(G.edges()) # returns a list"
   ]
  }
 ],
 "metadata": {
  "kernelspec": {
   "display_name": "Python 3 (ipykernel)",
   "language": "python",
   "name": "python3"
  },
  "language_info": {
   "codemirror_mode": {
    "name": "ipython",
    "version": 3
   },
   "file_extension": ".py",
   "mimetype": "text/x-python",
   "name": "python",
   "nbconvert_exporter": "python",
   "pygments_lexer": "ipython3",
   "version": "3.9.7"
  }
 },
 "nbformat": 4,
 "nbformat_minor": 5
}
