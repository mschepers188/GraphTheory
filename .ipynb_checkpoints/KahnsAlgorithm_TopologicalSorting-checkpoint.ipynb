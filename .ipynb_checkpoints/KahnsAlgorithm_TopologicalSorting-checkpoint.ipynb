{
 "cells": [
  {
   "cell_type": "code",
   "execution_count": 1,
   "id": "fe92d88e",
   "metadata": {},
   "outputs": [],
   "source": [
    "import networkx as nx\n",
    "import matplotlib.pyplot as plt"
   ]
  },
  {
   "cell_type": "code",
   "execution_count": 2,
   "id": "efee2a1d",
   "metadata": {},
   "outputs": [],
   "source": [
    "# G = nx.read_adjlist('git_log.adjlist', create_using=nx.DiGraph)\n",
    "# nx.draw(G)\n",
    "# import networkx as nx\n",
    "# import random\n",
    "\n",
    "# N = 7\n",
    "# G = nx.complete_graph(N, nx.DiGraph())\n",
    "# nx.draw(G)\n",
    "# G = nx.gnp_random_graph(7, 0.3, seed=20, directed=True)\n",
    "# nx.draw(G)"
   ]
  },
  {
   "cell_type": "code",
   "execution_count": 3,
   "id": "6dfc97ea",
   "metadata": {},
   "outputs": [],
   "source": [
    "edges = {(1, 2), (1, 3), (4, 2), (5,3), (4,3), (5,2), (2,3), (1,4)}\n",
    "G = nx.DiGraph(edges)\n",
    "# G.get_edges_from(edges)\n",
    "# nx.draw_spring(G, with_labels=True)"
   ]
  },
  {
   "cell_type": "code",
   "execution_count": 4,
   "id": "3e211399",
   "metadata": {
    "scrolled": true
   },
   "outputs": [
    {
     "name": "stdout",
     "output_type": "stream",
     "text": [
      "[1, 2, 4, 3, 5]\n",
      "{1: 0, 2: 3, 4: 1, 3: 4, 5: 0}\n",
      "[2, 4, 3]\n",
      "{2: 1, 4: 0, 3: 2}\n",
      "[2, 3]\n",
      "{2: 0, 3: 1}\n",
      "[3]\n",
      "{3: 0}\n",
      "[]\n",
      "{}\n"
     ]
    },
    {
     "data": {
      "text/plain": [
       "'DiGraph with 0 nodes and 0 edges is a DAG'"
      ]
     },
     "execution_count": 4,
     "metadata": {},
     "output_type": "execute_result"
    }
   ],
   "source": [
    "def Kahn(G):\n",
    "    nodes = list(G.nodes())\n",
    "    removed = []\n",
    "    \n",
    "    while nodes != []:\n",
    "        nodes = list(G.nodes())\n",
    "        print(nodes)\n",
    "        in_dict = dict(G.in_degree())\n",
    "        print(in_dict)\n",
    "        if 0 not in in_dict.values() and nodes != []:\n",
    "            return 'Not a DAG'\n",
    "        for node in in_dict:\n",
    "            if in_dict[node] == 0:\n",
    "                removed.append(node)\n",
    "                G.remove_node(node)\n",
    "    return f'{G} is a DAG'\n",
    "\n",
    "Kahn(G)"
   ]
  },
  {
   "cell_type": "code",
   "execution_count": 5,
   "id": "46ca5893",
   "metadata": {},
   "outputs": [
    {
     "data": {
      "image/png": "[encoded data removed]",
      "text/plain": [
       "<Figure size 432x288 with 1 Axes>"
      ]
     },
     "metadata": {},
     "output_type": "display_data"
    }
   ],
   "source": [
    "# Aciclic graph\n",
    "edges2 = {(1, 2), (2, 3), (3, 4), (1, 4), (1, 5)}\n",
    "G2 = nx.DiGraph(edges2)\n",
    "nx.draw_spring(G2, with_labels=True, node_color='green')\n",
    "# Ciclic graph\n",
    "edges3 = {(1, 2), (2, 3), (3, 4), (4, 1)}\n",
    "G3 = nx.DiGraph(edges3)\n",
    "nx.draw_spring(G3, with_labels=True, node_color='red')"
   ]
  },
  {
   "cell_type": "code",
   "execution_count": 6,
   "id": "cdeb8f2f",
   "metadata": {},
   "outputs": [
    {
     "name": "stdout",
     "output_type": "stream",
     "text": [
      "[1, 2, 3, 4, 5]\n",
      "{1: 0, 2: 1, 3: 1, 4: 2, 5: 1}\n",
      "[2, 3, 4, 5]\n",
      "{2: 0, 3: 1, 4: 1, 5: 0}\n",
      "[3, 4]\n",
      "{3: 0, 4: 1}\n",
      "[4]\n",
      "{4: 0}\n",
      "[]\n",
      "{}\n"
     ]
    },
    {
     "data": {
      "text/plain": [
       "'DiGraph with 0 nodes and 0 edges is a DAG'"
      ]
     },
     "execution_count": 6,
     "metadata": {},
     "output_type": "execute_result"
    }
   ],
   "source": [
    "def Kahn(G):\n",
    "    nodes = list(G.nodes())\n",
    "    removed = []\n",
    "    \n",
    "    while nodes != []:\n",
    "        nodes = list(G.nodes())\n",
    "        print(nodes)\n",
    "        in_dict = dict(G.in_degree())\n",
    "        print(in_dict)\n",
    "        if 0 not in in_dict.values() and nodes != []:\n",
    "            return 'Not a DAG'\n",
    "        for node in in_dict:\n",
    "            if in_dict[node] == 0:\n",
    "                removed.append(node)\n",
    "                G.remove_node(node)\n",
    "    return f'{G} is a DAG'\n",
    "\n",
    "Kahn(G2)"
   ]
  },
  {
   "cell_type": "code",
   "execution_count": 7,
   "id": "5cadab82",
   "metadata": {},
   "outputs": [
    {
     "name": "stdout",
     "output_type": "stream",
     "text": [
      "[2, 3, 1, 4]\n",
      "{2: 1, 3: 1, 1: 1, 4: 1}\n"
     ]
    },
    {
     "data": {
      "text/plain": [
       "'Not a DAG'"
      ]
     },
     "execution_count": 7,
     "metadata": {},
     "output_type": "execute_result"
    }
   ],
   "source": [
    "Kahn(G3)"
   ]
  }
 ],
 "metadata": {
  "kernelspec": {
   "display_name": "Python 3 (ipykernel)",
   "language": "python",
   "name": "python3"
  },
  "language_info": {
   "codemirror_mode": {
    "name": "ipython",
    "version": 3
   },
   "file_extension": ".py",
   "mimetype": "text/x-python",
   "name": "python",
   "nbconvert_exporter": "python",
   "pygments_lexer": "ipython3",
   "version": "3.8.12"
  }
 },
 "nbformat": 4,
 "nbformat_minor": 5
}
