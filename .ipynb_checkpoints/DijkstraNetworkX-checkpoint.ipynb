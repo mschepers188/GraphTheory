{
 "cells": [
  {
   "cell_type": "code",
   "execution_count": 1,
   "id": "52ae8065",
   "metadata": {},
   "outputs": [],
   "source": [
    "# Import the library\n",
    "import networkx as nx\n",
    "import matplotlib.pyplot as plt"
   ]
  },
  {
   "cell_type": "code",
   "execution_count": 2,
   "id": "ce3dc74e",
   "metadata": {},
   "outputs": [],
   "source": [
    "# Load the data\n",
    "edges = [(1,2, {'weight':4}),\n",
    "        (1,3,{'weight':2}),\n",
    "        (2,3,{'weight':1}),\n",
    "        (2,4, {'weight':5}),\n",
    "        (3,4, {'weight':8}),\n",
    "        (3,5, {'weight':10}),\n",
    "        (4,5,{'weight':2}),\n",
    "        (4,6,{'weight':8}),\n",
    "        (5,6,{'weight':5})]\n",
    "edge_labels = {(1,2):4, (1,3):2, (2,3):1, (2,4):5, (3,4):8, (3,5):10, (4,5):2, (4,6):8, (5,6):5}"
   ]
  },
  {
   "cell_type": "code",
   "execution_count": 3,
   "id": "a90b8fab",
   "metadata": {},
   "outputs": [
    {
     "name": "stdout",
     "output_type": "stream",
     "text": [
      "All shortest paths from 1:  {1: [1], 2: [1, 3, 2], 3: [1, 3], 4: [1, 3, 2, 4], 5: [1, 3, 2, 4, 5], 6: [1, 3, 2, 4, 5, 6]}\n",
      "Shortest path from 1 to 6:  [1, 3, 2, 4, 5, 6]\n",
      "Length of the shortest path:  15\n"
     ]
    }
   ],
   "source": [
    "G = nx.Graph()\n",
    "for i in range(1,7):\n",
    "    G.add_node(i)\n",
    "G.add_edges_from(edges)\n",
    "\n",
    "pos = nx.planar_layout(G)\n",
    "\n",
    "# This will give us all the shortest paths from node 1 using the weights from the edges. \n",
    "p1 = nx.shortest_path(G, source=1, weight='weight')\n",
    "\n",
    "# This will give us the shortest path from node 1 to node 6.\n",
    "p1to6 = nx.shortest_path(G, source=1, target=6, weight='weight')\n",
    "\n",
    "# This will give us the length of the shortest path from node 1 to node 6.\n",
    "length = nx.shortest_path_length(G, source=1, target=6, weight='weight')\n",
    "\n",
    "print('All shortest paths from 1: ', p1)\n",
    "print('Shortest path from 1 to 6: ', p1to6)\n",
    "print('Length of the shortest path: ', length)"
   ]
  },
  {
   "cell_type": "code",
   "execution_count": 4,
   "id": "585cf792",
   "metadata": {},
   "outputs": [
    {
     "data": {
      "image/png": "[encoded data removed]",
      "text/plain": [
       "<Figure size 432x288 with 1 Axes>"
      ]
     },
     "metadata": {},
     "output_type": "display_data"
    }
   ],
   "source": [
    "import matplotlib.pyplot as plt\n",
    "import networkx as nx\n",
    "\n",
    "G.add_edges_from(edges)\n",
    "pos = nx.spring_layout(G)\n",
    "plt.figure()\n",
    "nx.draw(\n",
    "    G, pos, edge_color='black', width=1, linewidths=1,\n",
    "    node_size=500, node_color='red', alpha=0.9,\n",
    "    labels={node: node for node in G.nodes()}\n",
    ")\n",
    "nx.draw_networkx_edge_labels(\n",
    "    G, pos,\n",
    "    edge_labels=edge_labels,\n",
    "    font_color='black'\n",
    ")\n",
    "plt.axis('off')\n",
    "plt.show()"
   ]
  },
  {
   "cell_type": "code",
   "execution_count": 5,
   "id": "738baad0",
   "metadata": {},
   "outputs": [
    {
     "name": "stdout",
     "output_type": "stream",
     "text": [
      "{'B': 0, 'D': 1, 'E': 2, 'G': 2, 'C': 3, 'A': 4, 'F': 4}\n"
     ]
    }
   ],
   "source": [
    "def dijkstra(nodes, distances):\n",
    "    # These are all the nodes which have not been visited yet\n",
    "    unvisited = {node: None for node in nodes}\n",
    "    # It will store the shortest distance from one node to another\n",
    "    visited = {}\n",
    "    current = 'B'\n",
    "    # It will store the predecessors of the nodes\n",
    "    currentDistance = 0\n",
    "    unvisited[current] = currentDistance\n",
    "    # Running the loop while all the nodes have been visited\n",
    "    while True:\n",
    "        # iterating through all the unvisited node\n",
    "        for neighbour, distance in distances[current].items():\n",
    "            # Iterating through the connected nodes of current_node (for \n",
    "            # example, a is connected with b and c having values 10 and 3\n",
    "            # respectively) and the weight of the edges\n",
    "            if neighbour not in unvisited: continue\n",
    "            newDistance = currentDistance + distance\n",
    "            if unvisited[neighbour] is None or unvisited[neighbour] > newDistance:\n",
    "                unvisited[neighbour] = newDistance\n",
    "        # Till now the shortest distance between the source node and target node \n",
    "        # has been found. Set the current node as the target node\n",
    "        visited[current] = currentDistance\n",
    "        del unvisited[current]\n",
    "        if not unvisited: break\n",
    "        candidates = [node for node in unvisited.items() if node[1]]\n",
    "        current, currentDistance = sorted(candidates, key = lambda x: x[1])[0]\n",
    "    return visited\n",
    " \n",
    "nodes = ('A', 'B', 'C', 'D', 'E', 'F', 'G')\n",
    "distances = {\n",
    "    'B': {'A': 5, 'D': 1, 'G': 2},\n",
    "    'A': {'B': 5, 'D': 3, 'E': 12, 'F' :5},\n",
    "    'D': {'B': 1, 'G': 1, 'E': 1, 'A': 3},\n",
    "    'G': {'B': 2, 'D': 1, 'C': 2},\n",
    "    'C': {'G': 2, 'E': 1, 'F': 16},\n",
    "    'E': {'A': 12, 'D': 1, 'C': 1, 'F': 2},\n",
    "    'F': {'A': 5, 'E': 2, 'C': 16}}\n",
    " \n",
    "print(dijkstra(nodes, distances))"
   ]
  }
 ],
 "metadata": {
  "kernelspec": {
   "display_name": "Python 3 (ipykernel)",
   "language": "python",
   "name": "python3"
  },
  "language_info": {
   "codemirror_mode": {
    "name": "ipython",
    "version": 3
   },
   "file_extension": ".py",
   "mimetype": "text/x-python",
   "name": "python",
   "nbconvert_exporter": "python",
   "pygments_lexer": "ipython3",
   "version": "3.8.12"
  }
 },
 "nbformat": 4,
 "nbformat_minor": 5
}
