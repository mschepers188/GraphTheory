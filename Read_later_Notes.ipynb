{
 "cells": [
  {
   "cell_type": "markdown",
   "id": "7aa7b3d1",
   "metadata": {},
   "source": [
    "To read later\n",
    "Maximum cardinality: Most possible combinations in a bipartite graph (Graph that can be split into two groups)\n",
    "Edge capacity: Number of edges allowed to a vertice"
   ]
  }
 ],
 "metadata": {
  "kernelspec": {
   "display_name": "Python 3 (ipykernel)",
   "language": "python",
   "name": "python3"
  },
  "language_info": {
   "codemirror_mode": {
    "name": "ipython",
    "version": 3
   },
   "file_extension": ".py",
   "mimetype": "text/x-python",
   "name": "python",
   "nbconvert_exporter": "python",
   "pygments_lexer": "ipython3",
   "version": "3.8.12"
  }
 },
 "nbformat": 4,
 "nbformat_minor": 5
}
